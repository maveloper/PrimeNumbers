{
 "cells": [
  {
   "cell_type": "code",
   "execution_count": 1,
   "metadata": {},
   "outputs": [
    {
     "name": "stdout",
     "output_type": "stream",
     "text": [
      "Requirement already satisfied: nose in ./opt/anaconda3/lib/python3.7/site-packages (1.3.7)\r\n"
     ]
    }
   ],
   "source": [
    "!pip install nose"
   ]
  },
  {
   "cell_type": "code",
   "execution_count": 2,
   "metadata": {},
   "outputs": [
    {
     "name": "stdout",
     "output_type": "stream",
     "text": [
      "Python version : 3.7.6\n"
     ]
    }
   ],
   "source": [
    "from platform import python_version\n",
    "print('Python version :', python_version())"
   ]
  },
  {
   "cell_type": "code",
   "execution_count": 3,
   "metadata": {},
   "outputs": [],
   "source": [
    "import math\n",
    "\n",
    "\n",
    "class PrimeGenerator(object):\n",
    "\n",
    "    def generate_primes(self, max_num):\n",
    "        if max_num is None:\n",
    "            raise TypeError('max_num não pode ser None')\n",
    "        array = [True] * max_num\n",
    "        array[0] = False\n",
    "        array[1] = False\n",
    "        prime = 2\n",
    "        while prime <= math.sqrt(max_num):\n",
    "            self._cross_off(array, prime)\n",
    "            prime = self._next_prime(array, prime)\n",
    "        return array\n",
    "\n",
    "    def _cross_off(self, array, prime):\n",
    "        for index in range(prime*prime, len(array), prime):\n",
    "            array[index] = False\n",
    "\n",
    "    def _next_prime(self, array, prime):\n",
    "        next = prime + 1\n",
    "        while next < len(array) and not array[next]:\n",
    "            next += 1\n",
    "        return next"
   ]
  },
  {
   "cell_type": "code",
   "execution_count": 4,
   "metadata": {},
   "outputs": [
    {
     "name": "stdout",
     "output_type": "stream",
     "text": [
      "Overwriting Primes1.py\n"
     ]
    }
   ],
   "source": [
    "%%writefile Primes1.py\n",
    "from nose.tools import assert_equal, assert_raises\n",
    "\n",
    "\n",
    "class TestMath(object):\n",
    "\n",
    "    def test_generate_primes(self):\n",
    "        prime_generator = PrimeGenerator()\n",
    "        assert_raises(TypeError, prime_generator.generate_primes, None)\n",
    "        assert_raises(TypeError, prime_generator.generate_primes, 98.6)\n",
    "        assert_equal(prime_generator.generate_primes(20), [False, False, True, \n",
    "                                                           True, False, True, \n",
    "                                                           False, True, False, \n",
    "                                                           False, False, True, \n",
    "                                                           False, True, False, \n",
    "                                                           False, False, True, \n",
    "                                                           False, True])\n",
    "        print('Success!')\n",
    "\n",
    "\n",
    "def main():\n",
    "    test = TestMath()\n",
    "    test.test_generate_primes()\n",
    "\n",
    "\n",
    "if __name__ == '__main__':\n",
    "    main()"
   ]
  },
  {
   "cell_type": "code",
   "execution_count": 5,
   "metadata": {},
   "outputs": [
    {
     "name": "stdout",
     "output_type": "stream",
     "text": [
      "Sua solução foi executada com sucesso! Parabéns!\n"
     ]
    }
   ],
   "source": [
    "%run -i Primes1.py"
   ]
  },
  {
   "cell_type": "code",
   "execution_count": null,
   "metadata": {},
   "outputs": [],
   "source": []
  }
 ],
 "metadata": {
  "kernelspec": {
   "display_name": "Python 3",
   "language": "python",
   "name": "python3"
  },
  "language_info": {
   "codemirror_mode": {
    "name": "ipython",
    "version": 3
   },
   "file_extension": ".py",
   "mimetype": "text/x-python",
   "name": "python",
   "nbconvert_exporter": "python",
   "pygments_lexer": "ipython3",
   "version": "3.7.6"
  }
 },
 "nbformat": 4,
 "nbformat_minor": 4
}
